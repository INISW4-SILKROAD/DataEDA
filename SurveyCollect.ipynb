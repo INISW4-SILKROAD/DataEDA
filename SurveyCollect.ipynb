{
 "cells": [
  {
   "cell_type": "code",
   "execution_count": 3,
   "id": "600e640c",
   "metadata": {},
   "outputs": [],
   "source": [
    "import pandas as pd\n",
    "import os\n",
    "import glob\n",
    "import numpy as np"
   ]
  },
  {
   "cell_type": "code",
   "execution_count": 4,
   "id": "16072a91",
   "metadata": {},
   "outputs": [],
   "source": [
    "# 이 아래로 전부 직접 짠 코드 입니다.\n",
    "def list_csv_files(folder_path):\n",
    "\n",
    "    if not os.path.isdir(folder_path):\n",
    "        raise ValueError(f\"Provided path '{folder_path}' is not a directory or does not exist.\")\n",
    "\n",
    "    csv_files = glob.glob(os.path.join(folder_path, \"*.csv\"))\n",
    "    \n",
    "    return csv_files\n",
    "\n",
    "\n",
    "folder_path = 'TextureSurvey_csv'\n",
    "csv_files = list_csv_files(folder_path)"
   ]
  },
  {
   "cell_type": "code",
   "execution_count": 5,
   "id": "a5528eeb",
   "metadata": {},
   "outputs": [],
   "source": [
    "value = pd.read_csv(csv_files[0])\n",
    "exist_value = value.dropna()\n",
    "exist_value = exist_value.rename(columns={\"Unnamed: 0\":\"Id\"})\n",
    "result = exist_value\n",
    "\n",
    "for csv in csv_files[1:]:\n",
    "    value = pd.read_csv(csv)\n",
    "    exist_value = value.dropna()\n",
    "    exist_value = exist_value.rename(columns={\"Unnamed: 0\":\"Id\"})\n",
    "    result = pd.concat([result,exist_value])"
   ]
  },
  {
   "cell_type": "code",
   "execution_count": 6,
   "id": "1ffe9e37",
   "metadata": {},
   "outputs": [],
   "source": [
    "# result.id = 56은 학습에 사용하지 않는 Data, result.id = 88은 원래 없는 Data(설문자 실수)\n",
    "\n",
    "result = pd.read_csv(\"result.csv\")\n",
    "result = result[result.Id != 56]\n",
    "result = result[result.Id != 88]"
   ]
  },
  {
   "cell_type": "code",
   "execution_count": 7,
   "id": "61b7f82f",
   "metadata": {},
   "outputs": [],
   "source": [
    "result.to_csv(\"result.csv\", index = False)"
   ]
  }
 ],
 "metadata": {
  "kernelspec": {
   "display_name": "EDA",
   "language": "python",
   "name": "eda"
  },
  "language_info": {
   "codemirror_mode": {
    "name": "ipython",
    "version": 3
   },
   "file_extension": ".py",
   "mimetype": "text/x-python",
   "name": "python",
   "nbconvert_exporter": "python",
   "pygments_lexer": "ipython3",
   "version": "3.8.19"
  }
 },
 "nbformat": 4,
 "nbformat_minor": 5
}
