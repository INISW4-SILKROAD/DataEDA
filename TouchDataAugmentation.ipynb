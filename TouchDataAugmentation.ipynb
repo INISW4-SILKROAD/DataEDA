{
 "cells": [
  {
   "cell_type": "code",
   "execution_count": 3,
   "id": "bf69de92",
   "metadata": {},
   "outputs": [],
   "source": [
    "import albumentations as albu\n",
    "from PIL import Image\n",
    "import numpy as np\n",
    "import os"
   ]
  },
  {
   "cell_type": "code",
   "execution_count": 4,
   "id": "9b1f82b4",
   "metadata": {},
   "outputs": [],
   "source": [
    "# 직접 짠 코드\n",
    "transform = albu.Compose([\n",
    "    albu.augmentations.Flip(p=0.5),\n",
    "    albu.OneOf([albu.Resize(480, 1024, p=1),\n",
    "               albu.Resize(512, 1024, p=1),\n",
    "               albu.Resize(540, 1024, p=1),\n",
    "               albu.Resize(576, 1024, p=1),\n",
    "               albu.Resize(608, 1024, p=1),\n",
    "               albu.Resize(640, 1024, p=1),\n",
    "               albu.Resize(672, 1024, p=1),\n",
    "               albu.Resize(704, 1024, p=1),\n",
    "               albu.Resize(736, 1024, p=1),\n",
    "               albu.Resize(768, 1024, p=1),\n",
    "               albu.Resize(800, 1024, p=1),\n",
    "               albu.Resize(1024, 1024, p=1)], p=1),\n",
    "    albu.RandomCrop(384, 600),\n",
    "    albu.OneOf([albu.Resize(480, 1024, p=1),\n",
    "               albu.Resize(512, 1024, p=1),\n",
    "               albu.Resize(540, 1024, p=1),\n",
    "               albu.Resize(576, 1024, p=1),\n",
    "               albu.Resize(608, 1024, p=1),\n",
    "               albu.Resize(640, 1024, p=1),\n",
    "               albu.Resize(672, 1024, p=1),\n",
    "               albu.Resize(704, 1024, p=1),\n",
    "               albu.Resize(736, 1024, p=1),\n",
    "               albu.Resize(768, 1024, p=1),\n",
    "               albu.Resize(800, 1024, p=1),\n",
    "               albu.Resize(1024, 1024, p=1)], p=1),\n",
    "    albu.ChannelShuffle(p=0.5),\n",
    "    albu.RandomBrightnessContrast(p=0.5)\n",
    "])"
   ]
  },
  {
   "cell_type": "code",
   "execution_count": 6,
   "id": "7ccb405e",
   "metadata": {},
   "outputs": [],
   "source": [
    "# 직접 짠 코드\n",
    "def process_and_save_images(input_folder, output_folder):\n",
    "    if not os.path.exists(output_folder):\n",
    "        os.makedirs(output_folder)\n",
    "\n",
    "    for filename in os.listdir(input_folder):\n",
    "        if filename.endswith(('.png', '.jpg', '.jpeg', '.bmp', '.gif')):\n",
    "            image_path = os.path.join(input_folder, filename)\n",
    "            \n",
    "            image = Image.open(image_path)\n",
    "            image_array = np.array(image)\n",
    "            \n",
    "            for i in range(31):\n",
    "\n",
    "                transformed_image_array = transform(image=image_array)\n",
    "                save_folder = os.path.join(output_folder, os.path.splitext(filename)[0])\n",
    "                if not os.path.exists(save_folder):\n",
    "                    os.makedirs(save_folder)\n",
    "                \n",
    "                save_name = os.path.splitext(filename)[0]+f\"_{i}\"+os.path.splitext(filename)[1]\n",
    "\n",
    "                save_path = os.path.join(save_folder, save_name)\n",
    "            \n",
    "                transformed_image = Image.fromarray(transformed_image_array['image'].astype(np.uint8))\n",
    "                transformed_image.save(save_path)\n",
    "                print(f\"Image {filename} processed and saved to {save_folder}\")\n",
    "                break\n",
    "            \n",
    "            image.save(os.path.join(save_folder, filename))\n",
    "            \n",
    "        break\n",
    "        \n",
    "\n",
    "# 증폭 시킬 이미지 경로와 출력될 경로 설정\n",
    "input_folder = 'path/input/folder'\n",
    "output_folder = 'path/output/folder'\n",
    "\n",
    "process_and_save_images(input_folder, output_folder)"
   ]
  },
  {
   "cell_type": "code",
   "execution_count": null,
   "id": "5074251e",
   "metadata": {},
   "outputs": [],
   "source": []
  }
 ],
 "metadata": {
  "kernelspec": {
   "display_name": "EDA",
   "language": "python",
   "name": "eda"
  },
  "language_info": {
   "codemirror_mode": {
    "name": "ipython",
    "version": 3
   },
   "file_extension": ".py",
   "mimetype": "text/x-python",
   "name": "python",
   "nbconvert_exporter": "python",
   "pygments_lexer": "ipython3",
   "version": "3.8.19"
  }
 },
 "nbformat": 4,
 "nbformat_minor": 5
}
